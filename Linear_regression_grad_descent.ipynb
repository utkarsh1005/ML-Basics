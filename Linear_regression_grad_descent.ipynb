{
  "nbformat": 4,
  "nbformat_minor": 0,
  "metadata": {
    "colab": {
      "provenance": [],
      "toc_visible": true
    },
    "kernelspec": {
      "name": "python3",
      "display_name": "Python 3"
    },
    "language_info": {
      "name": "python"
    }
  },
  "cells": [
    {
      "cell_type": "markdown",
      "source": [
        "#importing libraries"
      ],
      "metadata": {
        "id": "bSb_NQ8fd3Lv"
      }
    },
    {
      "cell_type": "code",
      "source": [
        "import pandas as pd\n",
        "import numpy as np\n",
        "import matplotlib.pyplot as plt"
      ],
      "metadata": {
        "id": "qnFRmo9GbFEG"
      },
      "execution_count": null,
      "outputs": []
    },
    {
      "cell_type": "markdown",
      "source": [
        "# Importing data"
      ],
      "metadata": {
        "id": "3FpOlTqUeAXZ"
      }
    },
    {
      "cell_type": "code",
      "source": [
        "house_calif_test = pd.read_csv('/content/sample_data/california_housing_test.csv')\n",
        "house_calif_train = pd.read_csv('/content/sample_data/california_housing_train.csv')"
      ],
      "metadata": {
        "id": "4f4kR-_FeBBH"
      },
      "execution_count": null,
      "outputs": []
    },
    {
      "cell_type": "code",
      "source": [
        "print(house_calif_train)"
      ],
      "metadata": {
        "colab": {
          "base_uri": "https://localhost:8080/"
        },
        "id": "zhJum-wqg_d8",
        "outputId": "65b09b49-e6f2-47cb-b1ff-569b05fbb496"
      },
      "execution_count": null,
      "outputs": [
        {
          "output_type": "stream",
          "name": "stdout",
          "text": [
            "       longitude  latitude  housing_median_age  total_rooms  total_bedrooms  \\\n",
            "0        -114.31     34.19                15.0       5612.0          1283.0   \n",
            "1        -114.47     34.40                19.0       7650.0          1901.0   \n",
            "2        -114.56     33.69                17.0        720.0           174.0   \n",
            "3        -114.57     33.64                14.0       1501.0           337.0   \n",
            "4        -114.57     33.57                20.0       1454.0           326.0   \n",
            "...          ...       ...                 ...          ...             ...   \n",
            "16995    -124.26     40.58                52.0       2217.0           394.0   \n",
            "16996    -124.27     40.69                36.0       2349.0           528.0   \n",
            "16997    -124.30     41.84                17.0       2677.0           531.0   \n",
            "16998    -124.30     41.80                19.0       2672.0           552.0   \n",
            "16999    -124.35     40.54                52.0       1820.0           300.0   \n",
            "\n",
            "       population  households  median_income  median_house_value  \n",
            "0          1015.0       472.0         1.4936             66900.0  \n",
            "1          1129.0       463.0         1.8200             80100.0  \n",
            "2           333.0       117.0         1.6509             85700.0  \n",
            "3           515.0       226.0         3.1917             73400.0  \n",
            "4           624.0       262.0         1.9250             65500.0  \n",
            "...           ...         ...            ...                 ...  \n",
            "16995       907.0       369.0         2.3571            111400.0  \n",
            "16996      1194.0       465.0         2.5179             79000.0  \n",
            "16997      1244.0       456.0         3.0313            103600.0  \n",
            "16998      1298.0       478.0         1.9797             85800.0  \n",
            "16999       806.0       270.0         3.0147             94600.0  \n",
            "\n",
            "[17000 rows x 9 columns]\n"
          ]
        }
      ]
    },
    {
      "cell_type": "markdown",
      "source": [
        "# separating variables and predicted value"
      ],
      "metadata": {
        "id": "iob1bI2ageUV"
      }
    },
    {
      "cell_type": "markdown",
      "source": [
        "## Adding Bias"
      ],
      "metadata": {
        "id": "iVBgcxSMb-Ax"
      }
    },
    {
      "cell_type": "code",
      "source": [
        "x = house_calif_train.iloc[:,:-1].values\n",
        "z = np.insert(x, 0 , values=1, axis=1)\n",
        "print(z)"
      ],
      "metadata": {
        "colab": {
          "base_uri": "https://localhost:8080/"
        },
        "id": "vtUDuYYffyFt",
        "outputId": "02880d61-5add-46d4-eefb-50186a874787"
      },
      "execution_count": null,
      "outputs": [
        {
          "output_type": "stream",
          "name": "stdout",
          "text": [
            "[[ 1.0000e+00 -1.1431e+02  3.4190e+01 ...  1.0150e+03  4.7200e+02\n",
            "   1.4936e+00]\n",
            " [ 1.0000e+00 -1.1447e+02  3.4400e+01 ...  1.1290e+03  4.6300e+02\n",
            "   1.8200e+00]\n",
            " [ 1.0000e+00 -1.1456e+02  3.3690e+01 ...  3.3300e+02  1.1700e+02\n",
            "   1.6509e+00]\n",
            " ...\n",
            " [ 1.0000e+00 -1.2430e+02  4.1840e+01 ...  1.2440e+03  4.5600e+02\n",
            "   3.0313e+00]\n",
            " [ 1.0000e+00 -1.2430e+02  4.1800e+01 ...  1.2980e+03  4.7800e+02\n",
            "   1.9797e+00]\n",
            " [ 1.0000e+00 -1.2435e+02  4.0540e+01 ...  8.0600e+02  2.7000e+02\n",
            "   3.0147e+00]]\n"
          ]
        }
      ]
    },
    {
      "cell_type": "code",
      "source": [
        "y = house_calif_train.iloc[:,-1].values\n",
        "print(y)"
      ],
      "metadata": {
        "colab": {
          "base_uri": "https://localhost:8080/"
        },
        "id": "SPidLahmgatC",
        "outputId": "1f19d4af-2240-4251-c303-0aa8499ff931"
      },
      "execution_count": null,
      "outputs": [
        {
          "output_type": "stream",
          "name": "stdout",
          "text": [
            "[ 66900.  80100.  85700. ... 103600.  85800.  94600.]\n"
          ]
        }
      ]
    },
    {
      "cell_type": "markdown",
      "source": [
        "# Calculating cost"
      ],
      "metadata": {
        "id": "7YzLI2b1Bil-"
      }
    },
    {
      "cell_type": "markdown",
      "source": [
        "## intiating bias and weights"
      ],
      "metadata": {
        "id": "UndSkIW1OGW4"
      }
    },
    {
      "cell_type": "code",
      "source": [
        "import random #for intialising weight and bias randomly\n",
        "def initialise(dim): #dim is dimension for weights vector\n",
        "  b = random.random()\n",
        "  w = np.random.rand(dim)\n",
        "  return b,w\n",
        "b,w = initialise(len(z[0]))\n",
        "b\n"
      ],
      "metadata": {
        "colab": {
          "base_uri": "https://localhost:8080/"
        },
        "id": "5LOscXxzBpLM",
        "outputId": "33c30040-dc1d-436e-f8ba-67bcc7789b59"
      },
      "execution_count": null,
      "outputs": [
        {
          "output_type": "execute_result",
          "data": {
            "text/plain": [
              "0.6500563645325316"
            ]
          },
          "metadata": {},
          "execution_count": 15
        }
      ]
    },
    {
      "cell_type": "markdown",
      "source": [
        "## calculating y_pred"
      ],
      "metadata": {
        "id": "nurf5pNXUOds"
      }
    },
    {
      "cell_type": "code",
      "source": [
        "def calculating_pred(b,w,x):\n",
        "  return b + np.dot(x,w)\n",
        "y_cal = calculating_pred(b,w,z)\n",
        "y_cal\n"
      ],
      "metadata": {
        "colab": {
          "base_uri": "https://localhost:8080/"
        },
        "id": "5SufxW8cUSdn",
        "outputId": "2c657e0f-6b0c-4665-8cdf-24b99cd3ce5f"
      },
      "execution_count": null,
      "outputs": [
        {
          "output_type": "execute_result",
          "data": {
            "text/plain": [
              "array([4325.94644915, 5742.41048729,  635.13204627, ..., 2411.47053423,\n",
              "       2451.67068024, 1556.39131147])"
            ]
          },
          "metadata": {},
          "execution_count": 7
        }
      ]
    },
    {
      "cell_type": "markdown",
      "source": [
        "##calculating cost"
      ],
      "metadata": {
        "id": "_0gvx5FNVB8L"
      }
    },
    {
      "cell_type": "code",
      "source": [
        "import math\n",
        "def get_cost(h,y):\n",
        "  diff = h - y\n",
        "  val = np.sum(np.dot(diff.T,diff))/len(h-y)\n",
        "  return val\n",
        "h= y_cal\n",
        "get_cost(h,y)\n"
      ],
      "metadata": {
        "colab": {
          "base_uri": "https://localhost:8080/"
        },
        "id": "hHj9zeLRVHKH",
        "outputId": "675a679a-20b3-4d73-a900-a828e106fbee"
      },
      "execution_count": null,
      "outputs": [
        {
          "output_type": "execute_result",
          "data": {
            "text/plain": [
              "55364455323.54392"
            ]
          },
          "metadata": {},
          "execution_count": 8
        }
      ]
    },
    {
      "cell_type": "markdown",
      "source": [
        "## updating parameter using learning rate"
      ],
      "metadata": {
        "id": "sTi0Xf4TX-Oa"
      }
    },
    {
      "cell_type": "code",
      "source": [
        "def modify_w(h,y,w,b,alpha):\n",
        "  del_b = np.sum(h-y)*2/len(y)\n",
        "  del_w = np.dot((h-y),z)*2/len(y)\n",
        "  b_new = b - alpha*del_b\n",
        "  w_new = w - alpha*del_w\n",
        "  return b_new,w_new\n",
        "b,w = modify_w(y_cal,y,w,b,0.01)\n",
        "w\n",
        "\n"
      ],
      "metadata": {
        "colab": {
          "base_uri": "https://localhost:8080/"
        },
        "id": "ehCZSdpHYEyA",
        "outputId": "23b60d82-2858-4376-9983-902ff78fa355"
      },
      "execution_count": null,
      "outputs": [
        {
          "output_type": "execute_result",
          "data": {
            "text/plain": [
              "array([ 1.63862016e+04, -1.95995374e+06,  5.80888144e+05,  4.81609286e+05,\n",
              "        4.56288111e+07,  8.95359487e+06,  2.29627759e+07,  8.37216879e+06,\n",
              "        7.58484987e+04])"
            ]
          },
          "metadata": {},
          "execution_count": 12
        }
      ]
    },
    {
      "cell_type": "markdown",
      "source": [
        "# Minimizing cost over all iterations"
      ],
      "metadata": {
        "id": "GFfyXleS7syj"
      }
    },
    {
      "cell_type": "code",
      "source": [
        "def grad_descent(x,y,alpha,num_iter):\n",
        "  iter_num = 0\n",
        "  b,w = initialise(len(z[0]))\n",
        "  for each_iter in range(num_iter):\n",
        "    h = calculating_pred(b,w,x)\n",
        "    prev_b = b\n",
        "    prev_w = w\n",
        "    b,w=modify_w(h,y,prev_w,prev_b,alpha)\n",
        "    iter_num+=1\n",
        "    return b,w\n",
        "\n",
        "grad_descent(z,y,0.001,200)\n"
      ],
      "metadata": {
        "colab": {
          "base_uri": "https://localhost:8080/"
        },
        "id": "2TP2PZyX77Of",
        "outputId": "91556e7b-4e7c-412e-dac8-b79a671d979e"
      },
      "execution_count": null,
      "outputs": [
        {
          "output_type": "execute_result",
          "data": {
            "text/plain": [
              "(410.4747677259305,\n",
              " array([ 4.10330088e+02, -4.90688612e+04,  1.45438521e+04,  1.20548106e+04,\n",
              "         1.14349219e+06,  2.24380127e+05,  5.75416202e+05,  2.09800146e+05,\n",
              "         1.89932123e+03]))"
            ]
          },
          "metadata": {},
          "execution_count": 16
        }
      ]
    }
  ]
}