{
  "nbformat": 4,
  "nbformat_minor": 0,
  "metadata": {
    "colab": {
      "name": "neural_net_iris_classifier.ipynb",
      "provenance": [],
      "collapsed_sections": [
        "UiQyhsryMdlP"
      ]
    },
    "kernelspec": {
      "name": "python3",
      "display_name": "Python 3"
    },
    "language_info": {
      "name": "python"
    }
  },
  "cells": [
    {
      "cell_type": "code",
      "execution_count": null,
      "metadata": {
        "id": "ei3adOvn0FTE"
      },
      "outputs": [],
      "source": [
        "import numpy as np\n",
        "import pandas as pd\n",
        "import matplotlib.pyplot as plt"
      ]
    },
    {
      "cell_type": "markdown",
      "metadata": {
        "id": "_uGbm3rqvhJ_"
      },
      "source": [
        "# Data"
      ]
    },
    {
      "cell_type": "markdown",
      "metadata": {
        "id": "hfyZbymsHFJm"
      },
      "source": [
        "## Importing Using Sklearn"
      ]
    },
    {
      "cell_type": "code",
      "execution_count": null,
      "metadata": {
        "id": "4N2JpXYTAr2D"
      },
      "outputs": [],
      "source": [
        "from sklearn import datasets"
      ]
    },
    {
      "cell_type": "code",
      "execution_count": null,
      "metadata": {
        "id": "Bwfv7mFiIpxq"
      },
      "outputs": [],
      "source": [
        "from sklearn.model_selection import train_test_split"
      ]
    },
    {
      "cell_type": "code",
      "execution_count": null,
      "metadata": {
        "id": "_TmfYgblI6hW"
      },
      "outputs": [],
      "source": [
        "def skl_to_df(data_loader):\n",
        "  x = pd.DataFrame(data_loader.data, columns = data_loader.feature_names)\n",
        "  y = pd.Series(data_loader.target, name = 'target')\n",
        "  return x, y"
      ]
    },
    {
      "cell_type": "code",
      "execution_count": null,
      "metadata": {
        "id": "MJsE2U0VTS-G"
      },
      "outputs": [],
      "source": [
        "x, y = skl_to_df(datasets.load_iris())"
      ]
    },
    {
      "cell_type": "code",
      "execution_count": null,
      "metadata": {
        "colab": {
          "base_uri": "https://localhost:8080/"
        },
        "id": "I4ue1UmZVVGY",
        "outputId": "f96bdb2c-5e3e-4ebc-9b43-8634f9e96367"
      },
      "outputs": [
        {
          "output_type": "execute_result",
          "data": {
            "text/plain": [
              "(150, 4)"
            ]
          },
          "metadata": {},
          "execution_count": 163
        }
      ],
      "source": [
        "x.shape"
      ]
    },
    {
      "cell_type": "code",
      "execution_count": null,
      "metadata": {
        "colab": {
          "base_uri": "https://localhost:8080/"
        },
        "id": "KPUfmzs4Uy0I",
        "outputId": "bcea896b-ad79-408d-8759-d85ba3b359f9"
      },
      "outputs": [
        {
          "output_type": "stream",
          "name": "stdout",
          "text": [
            "<class 'pandas.core.frame.DataFrame'>\n",
            "RangeIndex: 150 entries, 0 to 149\n",
            "Data columns (total 4 columns):\n",
            " #   Column             Non-Null Count  Dtype  \n",
            "---  ------             --------------  -----  \n",
            " 0   sepal length (cm)  150 non-null    float64\n",
            " 1   sepal width (cm)   150 non-null    float64\n",
            " 2   petal length (cm)  150 non-null    float64\n",
            " 3   petal width (cm)   150 non-null    float64\n",
            "dtypes: float64(4)\n",
            "memory usage: 4.8 KB\n"
          ]
        }
      ],
      "source": [
        "x.info()"
      ]
    },
    {
      "cell_type": "code",
      "execution_count": null,
      "metadata": {
        "colab": {
          "base_uri": "https://localhost:8080/",
          "height": 300
        },
        "id": "BRSywoYnU29R",
        "outputId": "4bb49cfc-e458-4fc1-bbc9-cd33e5b17906"
      },
      "outputs": [
        {
          "output_type": "execute_result",
          "data": {
            "text/plain": [
              "       sepal length (cm)  sepal width (cm)  petal length (cm)  \\\n",
              "count         150.000000        150.000000         150.000000   \n",
              "mean            5.843333          3.057333           3.758000   \n",
              "std             0.828066          0.435866           1.765298   \n",
              "min             4.300000          2.000000           1.000000   \n",
              "25%             5.100000          2.800000           1.600000   \n",
              "50%             5.800000          3.000000           4.350000   \n",
              "75%             6.400000          3.300000           5.100000   \n",
              "max             7.900000          4.400000           6.900000   \n",
              "\n",
              "       petal width (cm)  \n",
              "count        150.000000  \n",
              "mean           1.199333  \n",
              "std            0.762238  \n",
              "min            0.100000  \n",
              "25%            0.300000  \n",
              "50%            1.300000  \n",
              "75%            1.800000  \n",
              "max            2.500000  "
            ],
            "text/html": [
              "\n",
              "  <div id=\"df-81d943c3-f1ca-4a01-9d96-cdcb53c30128\">\n",
              "    <div class=\"colab-df-container\">\n",
              "      <div>\n",
              "<style scoped>\n",
              "    .dataframe tbody tr th:only-of-type {\n",
              "        vertical-align: middle;\n",
              "    }\n",
              "\n",
              "    .dataframe tbody tr th {\n",
              "        vertical-align: top;\n",
              "    }\n",
              "\n",
              "    .dataframe thead th {\n",
              "        text-align: right;\n",
              "    }\n",
              "</style>\n",
              "<table border=\"1\" class=\"dataframe\">\n",
              "  <thead>\n",
              "    <tr style=\"text-align: right;\">\n",
              "      <th></th>\n",
              "      <th>sepal length (cm)</th>\n",
              "      <th>sepal width (cm)</th>\n",
              "      <th>petal length (cm)</th>\n",
              "      <th>petal width (cm)</th>\n",
              "    </tr>\n",
              "  </thead>\n",
              "  <tbody>\n",
              "    <tr>\n",
              "      <th>count</th>\n",
              "      <td>150.000000</td>\n",
              "      <td>150.000000</td>\n",
              "      <td>150.000000</td>\n",
              "      <td>150.000000</td>\n",
              "    </tr>\n",
              "    <tr>\n",
              "      <th>mean</th>\n",
              "      <td>5.843333</td>\n",
              "      <td>3.057333</td>\n",
              "      <td>3.758000</td>\n",
              "      <td>1.199333</td>\n",
              "    </tr>\n",
              "    <tr>\n",
              "      <th>std</th>\n",
              "      <td>0.828066</td>\n",
              "      <td>0.435866</td>\n",
              "      <td>1.765298</td>\n",
              "      <td>0.762238</td>\n",
              "    </tr>\n",
              "    <tr>\n",
              "      <th>min</th>\n",
              "      <td>4.300000</td>\n",
              "      <td>2.000000</td>\n",
              "      <td>1.000000</td>\n",
              "      <td>0.100000</td>\n",
              "    </tr>\n",
              "    <tr>\n",
              "      <th>25%</th>\n",
              "      <td>5.100000</td>\n",
              "      <td>2.800000</td>\n",
              "      <td>1.600000</td>\n",
              "      <td>0.300000</td>\n",
              "    </tr>\n",
              "    <tr>\n",
              "      <th>50%</th>\n",
              "      <td>5.800000</td>\n",
              "      <td>3.000000</td>\n",
              "      <td>4.350000</td>\n",
              "      <td>1.300000</td>\n",
              "    </tr>\n",
              "    <tr>\n",
              "      <th>75%</th>\n",
              "      <td>6.400000</td>\n",
              "      <td>3.300000</td>\n",
              "      <td>5.100000</td>\n",
              "      <td>1.800000</td>\n",
              "    </tr>\n",
              "    <tr>\n",
              "      <th>max</th>\n",
              "      <td>7.900000</td>\n",
              "      <td>4.400000</td>\n",
              "      <td>6.900000</td>\n",
              "      <td>2.500000</td>\n",
              "    </tr>\n",
              "  </tbody>\n",
              "</table>\n",
              "</div>\n",
              "      <button class=\"colab-df-convert\" onclick=\"convertToInteractive('df-81d943c3-f1ca-4a01-9d96-cdcb53c30128')\"\n",
              "              title=\"Convert this dataframe to an interactive table.\"\n",
              "              style=\"display:none;\">\n",
              "        \n",
              "  <svg xmlns=\"http://www.w3.org/2000/svg\" height=\"24px\"viewBox=\"0 0 24 24\"\n",
              "       width=\"24px\">\n",
              "    <path d=\"M0 0h24v24H0V0z\" fill=\"none\"/>\n",
              "    <path d=\"M18.56 5.44l.94 2.06.94-2.06 2.06-.94-2.06-.94-.94-2.06-.94 2.06-2.06.94zm-11 1L8.5 8.5l.94-2.06 2.06-.94-2.06-.94L8.5 2.5l-.94 2.06-2.06.94zm10 10l.94 2.06.94-2.06 2.06-.94-2.06-.94-.94-2.06-.94 2.06-2.06.94z\"/><path d=\"M17.41 7.96l-1.37-1.37c-.4-.4-.92-.59-1.43-.59-.52 0-1.04.2-1.43.59L10.3 9.45l-7.72 7.72c-.78.78-.78 2.05 0 2.83L4 21.41c.39.39.9.59 1.41.59.51 0 1.02-.2 1.41-.59l7.78-7.78 2.81-2.81c.8-.78.8-2.07 0-2.86zM5.41 20L4 18.59l7.72-7.72 1.47 1.35L5.41 20z\"/>\n",
              "  </svg>\n",
              "      </button>\n",
              "      \n",
              "  <style>\n",
              "    .colab-df-container {\n",
              "      display:flex;\n",
              "      flex-wrap:wrap;\n",
              "      gap: 12px;\n",
              "    }\n",
              "\n",
              "    .colab-df-convert {\n",
              "      background-color: #E8F0FE;\n",
              "      border: none;\n",
              "      border-radius: 50%;\n",
              "      cursor: pointer;\n",
              "      display: none;\n",
              "      fill: #1967D2;\n",
              "      height: 32px;\n",
              "      padding: 0 0 0 0;\n",
              "      width: 32px;\n",
              "    }\n",
              "\n",
              "    .colab-df-convert:hover {\n",
              "      background-color: #E2EBFA;\n",
              "      box-shadow: 0px 1px 2px rgba(60, 64, 67, 0.3), 0px 1px 3px 1px rgba(60, 64, 67, 0.15);\n",
              "      fill: #174EA6;\n",
              "    }\n",
              "\n",
              "    [theme=dark] .colab-df-convert {\n",
              "      background-color: #3B4455;\n",
              "      fill: #D2E3FC;\n",
              "    }\n",
              "\n",
              "    [theme=dark] .colab-df-convert:hover {\n",
              "      background-color: #434B5C;\n",
              "      box-shadow: 0px 1px 3px 1px rgba(0, 0, 0, 0.15);\n",
              "      filter: drop-shadow(0px 1px 2px rgba(0, 0, 0, 0.3));\n",
              "      fill: #FFFFFF;\n",
              "    }\n",
              "  </style>\n",
              "\n",
              "      <script>\n",
              "        const buttonEl =\n",
              "          document.querySelector('#df-81d943c3-f1ca-4a01-9d96-cdcb53c30128 button.colab-df-convert');\n",
              "        buttonEl.style.display =\n",
              "          google.colab.kernel.accessAllowed ? 'block' : 'none';\n",
              "\n",
              "        async function convertToInteractive(key) {\n",
              "          const element = document.querySelector('#df-81d943c3-f1ca-4a01-9d96-cdcb53c30128');\n",
              "          const dataTable =\n",
              "            await google.colab.kernel.invokeFunction('convertToInteractive',\n",
              "                                                     [key], {});\n",
              "          if (!dataTable) return;\n",
              "\n",
              "          const docLinkHtml = 'Like what you see? Visit the ' +\n",
              "            '<a target=\"_blank\" href=https://colab.research.google.com/notebooks/data_table.ipynb>data table notebook</a>'\n",
              "            + ' to learn more about interactive tables.';\n",
              "          element.innerHTML = '';\n",
              "          dataTable['output_type'] = 'display_data';\n",
              "          await google.colab.output.renderOutput(dataTable, element);\n",
              "          const docLink = document.createElement('div');\n",
              "          docLink.innerHTML = docLinkHtml;\n",
              "          element.appendChild(docLink);\n",
              "        }\n",
              "      </script>\n",
              "    </div>\n",
              "  </div>\n",
              "  "
            ]
          },
          "metadata": {},
          "execution_count": 165
        }
      ],
      "source": [
        "x.describe()"
      ]
    },
    {
      "cell_type": "code",
      "execution_count": null,
      "metadata": {
        "colab": {
          "base_uri": "https://localhost:8080/",
          "height": 81
        },
        "id": "owLTXk_iVMLi",
        "outputId": "1af7453f-372e-4573-8cbe-dd27ad516d86"
      },
      "outputs": [
        {
          "output_type": "execute_result",
          "data": {
            "text/plain": [
              "   sepal length (cm)  sepal width (cm)  petal length (cm)  petal width (cm)\n",
              "0                5.1               3.5                1.4               0.2"
            ],
            "text/html": [
              "\n",
              "  <div id=\"df-8aa06d71-f03d-4ae1-ab53-5550a212cdee\">\n",
              "    <div class=\"colab-df-container\">\n",
              "      <div>\n",
              "<style scoped>\n",
              "    .dataframe tbody tr th:only-of-type {\n",
              "        vertical-align: middle;\n",
              "    }\n",
              "\n",
              "    .dataframe tbody tr th {\n",
              "        vertical-align: top;\n",
              "    }\n",
              "\n",
              "    .dataframe thead th {\n",
              "        text-align: right;\n",
              "    }\n",
              "</style>\n",
              "<table border=\"1\" class=\"dataframe\">\n",
              "  <thead>\n",
              "    <tr style=\"text-align: right;\">\n",
              "      <th></th>\n",
              "      <th>sepal length (cm)</th>\n",
              "      <th>sepal width (cm)</th>\n",
              "      <th>petal length (cm)</th>\n",
              "      <th>petal width (cm)</th>\n",
              "    </tr>\n",
              "  </thead>\n",
              "  <tbody>\n",
              "    <tr>\n",
              "      <th>0</th>\n",
              "      <td>5.1</td>\n",
              "      <td>3.5</td>\n",
              "      <td>1.4</td>\n",
              "      <td>0.2</td>\n",
              "    </tr>\n",
              "  </tbody>\n",
              "</table>\n",
              "</div>\n",
              "      <button class=\"colab-df-convert\" onclick=\"convertToInteractive('df-8aa06d71-f03d-4ae1-ab53-5550a212cdee')\"\n",
              "              title=\"Convert this dataframe to an interactive table.\"\n",
              "              style=\"display:none;\">\n",
              "        \n",
              "  <svg xmlns=\"http://www.w3.org/2000/svg\" height=\"24px\"viewBox=\"0 0 24 24\"\n",
              "       width=\"24px\">\n",
              "    <path d=\"M0 0h24v24H0V0z\" fill=\"none\"/>\n",
              "    <path d=\"M18.56 5.44l.94 2.06.94-2.06 2.06-.94-2.06-.94-.94-2.06-.94 2.06-2.06.94zm-11 1L8.5 8.5l.94-2.06 2.06-.94-2.06-.94L8.5 2.5l-.94 2.06-2.06.94zm10 10l.94 2.06.94-2.06 2.06-.94-2.06-.94-.94-2.06-.94 2.06-2.06.94z\"/><path d=\"M17.41 7.96l-1.37-1.37c-.4-.4-.92-.59-1.43-.59-.52 0-1.04.2-1.43.59L10.3 9.45l-7.72 7.72c-.78.78-.78 2.05 0 2.83L4 21.41c.39.39.9.59 1.41.59.51 0 1.02-.2 1.41-.59l7.78-7.78 2.81-2.81c.8-.78.8-2.07 0-2.86zM5.41 20L4 18.59l7.72-7.72 1.47 1.35L5.41 20z\"/>\n",
              "  </svg>\n",
              "      </button>\n",
              "      \n",
              "  <style>\n",
              "    .colab-df-container {\n",
              "      display:flex;\n",
              "      flex-wrap:wrap;\n",
              "      gap: 12px;\n",
              "    }\n",
              "\n",
              "    .colab-df-convert {\n",
              "      background-color: #E8F0FE;\n",
              "      border: none;\n",
              "      border-radius: 50%;\n",
              "      cursor: pointer;\n",
              "      display: none;\n",
              "      fill: #1967D2;\n",
              "      height: 32px;\n",
              "      padding: 0 0 0 0;\n",
              "      width: 32px;\n",
              "    }\n",
              "\n",
              "    .colab-df-convert:hover {\n",
              "      background-color: #E2EBFA;\n",
              "      box-shadow: 0px 1px 2px rgba(60, 64, 67, 0.3), 0px 1px 3px 1px rgba(60, 64, 67, 0.15);\n",
              "      fill: #174EA6;\n",
              "    }\n",
              "\n",
              "    [theme=dark] .colab-df-convert {\n",
              "      background-color: #3B4455;\n",
              "      fill: #D2E3FC;\n",
              "    }\n",
              "\n",
              "    [theme=dark] .colab-df-convert:hover {\n",
              "      background-color: #434B5C;\n",
              "      box-shadow: 0px 1px 3px 1px rgba(0, 0, 0, 0.15);\n",
              "      filter: drop-shadow(0px 1px 2px rgba(0, 0, 0, 0.3));\n",
              "      fill: #FFFFFF;\n",
              "    }\n",
              "  </style>\n",
              "\n",
              "      <script>\n",
              "        const buttonEl =\n",
              "          document.querySelector('#df-8aa06d71-f03d-4ae1-ab53-5550a212cdee button.colab-df-convert');\n",
              "        buttonEl.style.display =\n",
              "          google.colab.kernel.accessAllowed ? 'block' : 'none';\n",
              "\n",
              "        async function convertToInteractive(key) {\n",
              "          const element = document.querySelector('#df-8aa06d71-f03d-4ae1-ab53-5550a212cdee');\n",
              "          const dataTable =\n",
              "            await google.colab.kernel.invokeFunction('convertToInteractive',\n",
              "                                                     [key], {});\n",
              "          if (!dataTable) return;\n",
              "\n",
              "          const docLinkHtml = 'Like what you see? Visit the ' +\n",
              "            '<a target=\"_blank\" href=https://colab.research.google.com/notebooks/data_table.ipynb>data table notebook</a>'\n",
              "            + ' to learn more about interactive tables.';\n",
              "          element.innerHTML = '';\n",
              "          dataTable['output_type'] = 'display_data';\n",
              "          await google.colab.output.renderOutput(dataTable, element);\n",
              "          const docLink = document.createElement('div');\n",
              "          docLink.innerHTML = docLinkHtml;\n",
              "          element.appendChild(docLink);\n",
              "        }\n",
              "      </script>\n",
              "    </div>\n",
              "  </div>\n",
              "  "
            ]
          },
          "metadata": {},
          "execution_count": 166
        }
      ],
      "source": [
        "x.head(1)"
      ]
    },
    {
      "cell_type": "code",
      "source": [
        "y.head(1)"
      ],
      "metadata": {
        "colab": {
          "base_uri": "https://localhost:8080/"
        },
        "id": "meT_GMp92Yrd",
        "outputId": "52e550f6-5cdb-4eeb-8f89-a7f340749dfc"
      },
      "execution_count": null,
      "outputs": [
        {
          "output_type": "execute_result",
          "data": {
            "text/plain": [
              "0    0\n",
              "Name: target, dtype: int64"
            ]
          },
          "metadata": {},
          "execution_count": 167
        }
      ]
    },
    {
      "cell_type": "code",
      "execution_count": null,
      "metadata": {
        "colab": {
          "base_uri": "https://localhost:8080/"
        },
        "id": "Ro54_uciV-hI",
        "outputId": "ad2029ff-d3a4-4e44-beda-665348293e0b"
      },
      "outputs": [
        {
          "output_type": "execute_result",
          "data": {
            "text/plain": [
              "0    50\n",
              "1    50\n",
              "2    50\n",
              "Name: target, dtype: int64"
            ]
          },
          "metadata": {},
          "execution_count": 168
        }
      ],
      "source": [
        "y.value_counts()"
      ]
    },
    {
      "cell_type": "code",
      "execution_count": null,
      "metadata": {
        "id": "S2awh3cuTnfa"
      },
      "outputs": [],
      "source": [
        "X_train, X_test, Y_train, Y_test = train_test_split(x, y, test_size=0.3, random_state=42)"
      ]
    },
    {
      "cell_type": "code",
      "execution_count": null,
      "metadata": {
        "id": "izrUPfCvTvBR"
      },
      "outputs": [],
      "source": [
        "x_train = np.array(X_train)\n",
        "x_test = np.array(X_test)\n",
        "y_train = np.array(Y_train)\n",
        "y_test = np.array(Y_test)"
      ]
    },
    {
      "cell_type": "code",
      "execution_count": null,
      "metadata": {
        "colab": {
          "base_uri": "https://localhost:8080/"
        },
        "id": "MhDJvO3JU-EJ",
        "outputId": "4e50e3af-eb58-4137-c398-fefa680fcaf3"
      },
      "outputs": [
        {
          "output_type": "execute_result",
          "data": {
            "text/plain": [
              "(105, 4)"
            ]
          },
          "metadata": {},
          "execution_count": 171
        }
      ],
      "source": [
        "x_train.shape"
      ]
    },
    {
      "cell_type": "markdown",
      "metadata": {
        "id": "0J-q6bP2LINf"
      },
      "source": [
        "# Data Preprocessing"
      ]
    },
    {
      "cell_type": "markdown",
      "metadata": {
        "id": "UiQyhsryMdlP"
      },
      "source": [
        "## Feature Normalization (Mean normalization & Feature Scaling)"
      ]
    },
    {
      "cell_type": "code",
      "execution_count": null,
      "metadata": {
        "id": "yS1wWVOLs-cD"
      },
      "outputs": [],
      "source": [
        "def calc_xmean(x):\n",
        "  mean = np.zeros(x.shape[1])\n",
        "  for i in range(x.shape[1]):\n",
        "    mean[i] = np.mean(x[:, i])\n",
        "  return mean"
      ]
    },
    {
      "cell_type": "code",
      "execution_count": null,
      "metadata": {
        "colab": {
          "base_uri": "https://localhost:8080/"
        },
        "id": "cssJuhiBuPXZ",
        "outputId": "d91370a6-e4b8-4d89-f4ff-64db3d376ce9"
      },
      "outputs": [
        {
          "output_type": "execute_result",
          "data": {
            "text/plain": [
              "array([5.84285714, 3.00952381, 3.87047619, 1.23904762])"
            ]
          },
          "metadata": {},
          "execution_count": 173
        }
      ],
      "source": [
        "xmean_train = calc_xmean(x_train)\n",
        "xmean_train"
      ]
    },
    {
      "cell_type": "code",
      "execution_count": null,
      "metadata": {
        "id": "y0Xzkv80uNPS"
      },
      "outputs": [],
      "source": [
        "def calc_xstd(x):\n",
        "  std = np.zeros(x.shape[1])\n",
        "  for i in range(x.shape[1]):\n",
        "    std[i] = np.std(x[:, 1])\n",
        "  return std"
      ]
    },
    {
      "cell_type": "code",
      "execution_count": null,
      "metadata": {
        "colab": {
          "base_uri": "https://localhost:8080/"
        },
        "id": "DbDKtxmDunAX",
        "outputId": "f06967f6-63cc-4051-cc66-e9a41ae4b2ab"
      },
      "outputs": [
        {
          "output_type": "execute_result",
          "data": {
            "text/plain": [
              "array([0.41691013, 0.41691013, 0.41691013, 0.41691013])"
            ]
          },
          "metadata": {},
          "execution_count": 175
        }
      ],
      "source": [
        "xstd_train = calc_xstd(x_train)\n",
        "xstd_train"
      ]
    },
    {
      "cell_type": "code",
      "execution_count": null,
      "metadata": {
        "id": "C4cBdCbeeHb_"
      },
      "outputs": [],
      "source": [
        "def feature_norm(x, mean, std):\n",
        "  for i in range(x.shape[1]):\n",
        "    x[:, i] = (x[:, i] - mean[i])/std[i]\n",
        "  return x"
      ]
    },
    {
      "cell_type": "code",
      "execution_count": null,
      "metadata": {
        "colab": {
          "base_uri": "https://localhost:8080/"
        },
        "id": "WXe_blQpZCOl",
        "outputId": "39065142-1208-4a61-f697-249054b2ca0e"
      },
      "outputs": [
        {
          "output_type": "execute_result",
          "data": {
            "text/plain": [
              "array([[-0.82237661, -1.46200287, -0.40890393, -0.57337925],\n",
              "       [ 1.09650215, -0.50256349,  2.94913391,  0.62591998],\n",
              "       [ 1.336362  ,  0.21701605,  3.90857329,  1.34549951],\n",
              "       [ 1.81608169, -0.02284379,  1.27011499,  0.38606013],\n",
              "       [ 3.25524076,  1.41631528,  5.34773236,  3.02451843],\n",
              "       [-0.34265692, -0.26270364,  0.7903953 ,  0.14620029],\n",
              "       [ 4.21468014, -0.02284379,  6.54703159,  2.06507905],\n",
              "       [-0.58251677, -0.02284379,  1.50997484,  0.62591998],\n",
              "       [-1.78181599,  1.17645543, -5.92568037, -2.49225801],\n",
              "       [ 4.45453998, -0.50256349,  6.78689143,  1.8252192 ],\n",
              "       [-0.10279708, -0.74242333,  0.55053545, -0.57337925],\n",
              "       [-1.54195615,  0.93659559, -5.92568037, -2.49225801],\n",
              "       [-2.02167584,  1.17645543, -6.16554021, -2.25239817],\n",
              "       [-1.78181599,  1.89603497, -4.72638114, -2.01253832],\n",
              "       [-2.02167584, -2.42144225, -0.88862362, -0.57337925],\n",
              "       [ 1.09650215, -0.74242333,  2.46941422,  1.34549951],\n",
              "       [-2.50139553,  0.93659559, -4.72638114, -2.49225801],\n",
              "       [-2.02167584, -0.02284379, -5.44596068, -2.49225801],\n",
              "       [-1.78181599,  0.69673574, -5.20610083, -1.77267848],\n",
              "       [-0.58251677, -0.74242333,  0.7903953 ,  0.14620029],\n",
              "       [-1.78181599,  0.93659559, -5.68582052, -2.49225801],\n",
              "       [-0.34265692, -0.02284379,  0.7903953 , -0.09365956],\n",
              "       [ 4.45453998,  1.89603497,  6.78689143,  2.30493889],\n",
              "       [-2.98111522,  0.4568759 , -5.92568037, -2.49225801],\n",
              "       [ 0.8566423 , -0.26270364,  1.03025515,  0.14620029],\n",
              "       [-0.34265692, -1.22214302,  2.70927406,  1.8252192 ],\n",
              "       [-0.82237661,  2.85547435, -5.92568037, -2.49225801],\n",
              "       [ 0.37692261, -0.02284379,  2.22955437,  1.34549951],\n",
              "       [-0.10279708, -0.74242333,  2.94913391,  1.58535936],\n",
              "       [ 0.37692261, -1.94172256,  0.31067561, -0.57337925],\n",
              "       [-1.06223646, -0.02284379,  1.50997484,  0.62591998],\n",
              "       [ 0.8566423 ,  0.93659559,  3.66871344,  2.54479874],\n",
              "       [-0.82237661, -1.70186271,  0.31067561,  0.14620029],\n",
              "       [-1.06223646,  2.13589481, -5.20610083, -2.01253832],\n",
              "       [-2.02167584, -1.70186271, -1.36834331, -0.57337925],\n",
              "       [ 1.336362  , -0.74242333,  3.4288536 ,  1.58535936],\n",
              "       [-2.02167584,  0.69673574, -5.92568037, -2.49225801],\n",
              "       [-2.02167584,  0.4568759 , -6.40540006, -2.49225801],\n",
              "       [-0.82237661, -1.46200287, -0.16904408, -0.3335194 ],\n",
              "       [ 2.05594153, -0.02284379,  2.70927406,  1.10563967],\n",
              "       [-2.26153568,  0.21701605, -5.68582052, -2.49225801],\n",
              "       [-0.10279708, -0.50256349,  2.94913391,  2.78465859],\n",
              "       [-2.02167584,  0.93659559, -5.68582052, -2.49225801],\n",
              "       [-2.02167584,  1.17645543, -5.44596068, -1.53281863],\n",
              "       [ 0.13706277,  0.4568759 ,  2.22955437,  1.34549951],\n",
              "       [-1.78181599, -1.22214302, -2.08792284, -0.3335194 ],\n",
              "       [ 2.53566122,  0.4568759 ,  4.38829298,  2.54479874],\n",
              "       [ 0.37692261, -0.74242333,  2.94913391,  0.86577982],\n",
              "       [ 0.61678246, -0.98228318,  4.14843313,  0.38606013],\n",
              "       [ 4.45453998, -0.02284379,  5.34773236,  2.54479874],\n",
              "       [-0.82237661, -1.22214302,  0.31067561,  0.14620029],\n",
              "       [-3.46083491, -0.26270364, -5.92568037, -2.49225801],\n",
              "       [-3.70069476, -0.02284379, -6.6452599 , -2.73211786],\n",
              "       [ 0.37692261, -1.94172256,  2.70927406,  0.62591998],\n",
              "       [ 3.25524076,  0.4568759 ,  5.10787252,  1.34549951],\n",
              "       [-2.98111522,  0.21701605, -5.68582052, -2.49225801],\n",
              "       [-1.78181599,  1.17645543, -5.92568037, -2.25239817],\n",
              "       [-3.46083491, -0.02284379, -6.16554021, -2.49225801],\n",
              "       [ 1.09650215, -1.22214302,  2.46941422,  0.62591998],\n",
              "       [ 1.09650215,  0.93659559,  4.14843313,  2.78465859],\n",
              "       [-2.98111522,  0.93659559, -5.92568037, -2.25239817],\n",
              "       [ 2.29580138, -0.02284379,  3.90857329,  2.06507905],\n",
              "       [ 1.09650215,  0.69673574,  5.10787252,  3.02451843],\n",
              "       [-2.74125538,  0.4568759 , -6.16554021, -2.49225801],\n",
              "       [ 0.61678246, -0.26270364,  1.98969453,  0.38606013],\n",
              "       [ 1.57622184, -0.50256349,  1.74983468,  0.62591998],\n",
              "       [ 0.8566423 , -0.50256349,  2.22955437,  1.34549951],\n",
              "       [ 2.77552107,  0.4568759 ,  1.98969453,  0.38606013],\n",
              "       [ 1.336362  ,  0.4568759 ,  3.4288536 ,  2.54479874],\n",
              "       [-1.78181599,  1.89603497, -5.44596068, -2.49225801],\n",
              "       [ 2.53566122,  0.21701605,  3.66871344,  2.06507905],\n",
              "       [ 0.13706277, -0.02284379,  0.7903953 ,  0.62591998],\n",
              "       [ 1.57622184, -0.02284379,  3.18899375,  1.8252192 ],\n",
              "       [-0.34265692, -0.98228318, -0.88862362, -0.57337925],\n",
              "       [-1.54195615, -0.74242333,  0.07081576,  0.38606013],\n",
              "       [ 0.61678246, -0.02284379,  1.74983468,  0.38606013],\n",
              "       [-3.22097507, -1.70186271, -6.16554021, -2.25239817],\n",
              "       [ 1.81608169, -0.26270364,  1.74983468,  0.14620029],\n",
              "       [-0.82237661, -0.98228318,  1.27011499, -0.09365956],\n",
              "       [-1.3020963 ,  1.65617512, -5.68582052, -2.49225801],\n",
              "       [-0.58251677, -0.02284379,  0.55053545,  0.14620029],\n",
              "       [ 3.4951006 , -0.26270364,  5.82745205,  1.34549951],\n",
              "       [ 2.05594153,  0.69673574,  4.38829298,  2.06507905],\n",
              "       [-1.78181599,  1.65617512, -5.68582052, -2.01253832],\n",
              "       [-2.26153568, -1.46200287, -1.36834331, -0.57337925],\n",
              "       [ 2.05594153,  0.69673574,  4.38829298,  3.02451843],\n",
              "       [ 3.25524076, -0.02284379,  4.62815282,  0.86577982],\n",
              "       [-2.26153568,  1.41631528, -5.92568037, -2.73211786],\n",
              "       [ 2.05594153,  0.21701605,  4.14843313,  2.78465859],\n",
              "       [-2.26153568, -0.02284379, -5.92568037, -2.49225801],\n",
              "       [ 2.53566122,  0.21701605,  2.46941422,  0.62591998],\n",
              "       [ 3.73496045, -0.50256349,  5.34773236,  1.58535936],\n",
              "       [ 1.09650215, -0.26270364,  4.14843313,  1.34549951],\n",
              "       [-0.34265692, -0.50256349,  0.55053545,  0.14620029],\n",
              "       [ 1.57622184, -0.02284379,  3.90857329,  1.34549951],\n",
              "       [ 1.09650215, -1.70186271,  1.27011499,  0.14620029],\n",
              "       [ 1.336362  , -0.26270364,  1.03025515,  0.14620029],\n",
              "       [-0.58251677, -0.50256349,  2.46941422,  1.8252192 ],\n",
              "       [ 0.13706277, -0.02284379,  2.94913391,  1.34549951],\n",
              "       [-1.06223646,  0.93659559, -5.20610083, -2.49225801],\n",
              "       [ 0.61678246, -0.50256349,  0.31067561,  0.14620029],\n",
              "       [-2.26153568, -1.22214302,  1.50997484,  1.10563967],\n",
              "       [-0.10279708,  2.37575466, -6.40540006, -2.49225801],\n",
              "       [-0.10279708, -0.98228318,  0.31067561, -0.09365956],\n",
              "       [ 3.01538091, -0.02284379,  4.86801267,  2.06507905]])"
            ]
          },
          "metadata": {},
          "execution_count": 177
        }
      ],
      "source": [
        "x_train = feature_norm(x_train, xmean_train, xstd_train)\n",
        "x_train"
      ]
    },
    {
      "cell_type": "code",
      "execution_count": null,
      "metadata": {
        "colab": {
          "base_uri": "https://localhost:8080/"
        },
        "id": "QeocT4SLdd3E",
        "outputId": "79b5a19c-e5ea-4ea3-e090-a82e1c09eeac"
      },
      "outputs": [
        {
          "output_type": "execute_result",
          "data": {
            "text/plain": [
              "array([[ 0.61678246, -0.50256349,  1.98969453, -0.09365956],\n",
              "       [-0.34265692,  1.89603497, -5.20610083, -2.25239817],\n",
              "       [ 4.45453998, -0.98228318,  7.26661112,  2.54479874],\n",
              "       [ 0.37692261, -0.26270364,  1.50997484,  0.62591998],\n",
              "       [ 2.29580138, -0.50256349,  2.22955437,  0.38606013],\n",
              "       [-1.06223646,  0.93659559, -5.68582052, -2.01253832],\n",
              "       [-0.58251677, -0.26270364, -0.64876377,  0.14620029],\n",
              "       [ 2.53566122,  0.21701605,  2.94913391,  2.54479874],\n",
              "       [ 0.8566423 , -1.94172256,  1.50997484,  0.62591998],\n",
              "       [-0.10279708, -0.74242333,  0.07081576, -0.09365956],\n",
              "       [ 1.57622184,  0.4568759 ,  2.94913391,  1.8252192 ],\n",
              "       [-2.50139553, -0.02284379, -5.92568037, -2.73211786],\n",
              "       [-0.82237661,  1.17645543, -6.16554021, -2.49225801],\n",
              "       [-2.26153568,  0.21701605, -5.68582052, -2.73211786],\n",
              "       [-1.78181599,  1.89603497, -5.68582052, -2.25239817],\n",
              "       [ 1.09650215,  0.69673574,  1.98969453,  0.86577982],\n",
              "       [ 1.57622184, -0.02284379,  4.62815282,  2.30493889],\n",
              "       [-0.58251677, -1.22214302,  0.07081576, -0.3335194 ],\n",
              "       [-0.34265692, -0.50256349,  1.50997484,  0.14620029],\n",
              "       [ 1.336362  , -0.50256349,  4.14843313,  2.30493889],\n",
              "       [-2.74125538,  0.4568759 , -5.44596068, -2.49225801],\n",
              "       [ 0.61678246, -0.02284379,  2.46941422,  1.34549951],\n",
              "       [-2.02167584,  0.93659559, -5.44596068, -2.01253832],\n",
              "       [ 1.336362  , -0.50256349,  4.14843313,  2.06507905],\n",
              "       [ 4.93425968,  1.89603497,  6.0673119 ,  1.8252192 ],\n",
              "       [ 2.05594153, -0.02284379,  3.18899375,  2.54479874],\n",
              "       [ 2.05594153, -1.22214302,  4.62815282,  1.34549951],\n",
              "       [ 2.29580138,  0.4568759 ,  4.86801267,  2.54479874],\n",
              "       [-2.50139553, -0.02284379, -5.92568037, -2.25239817],\n",
              "       [-2.50139553,  0.21701605, -5.44596068, -2.49225801],\n",
              "       [-2.98111522,  1.41631528, -6.88511975, -2.49225801],\n",
              "       [-0.34265692,  3.33519404, -5.68582052, -2.01253832],\n",
              "       [ 2.05594153,  0.21701605,  1.27011499,  0.38606013],\n",
              "       [-2.50139553,  0.93659559, -5.44596068, -2.49225801],\n",
              "       [-3.46083491,  0.4568759 , -6.16554021, -2.49225801],\n",
              "       [ 1.09650215, -1.22214302,  2.70927406,  1.58535936],\n",
              "       [ 1.336362  ,  0.4568759 ,  1.50997484,  0.62591998],\n",
              "       [-1.54195615,  1.17645543, -5.68582052, -2.49225801],\n",
              "       [-2.02167584,  1.41631528, -5.92568037, -2.49225801],\n",
              "       [-1.54195615,  2.6156145 , -5.68582052, -2.73211786],\n",
              "       [-0.10279708, -0.74242333,  2.94913391,  1.58535936],\n",
              "       [ 0.37692261,  0.93659559,  1.50997484,  0.86577982],\n",
              "       [ 2.05594153,  0.21701605,  1.98969453,  0.62591998],\n",
              "       [-1.06223646,  2.13589481, -6.16554021, -2.01253832],\n",
              "       [-1.06223646,  1.65617512, -5.68582052, -2.49225801]])"
            ]
          },
          "metadata": {},
          "execution_count": 178
        }
      ],
      "source": [
        "x_test = feature_norm(x_test, xmean_train, xstd_train)\n",
        "x_test"
      ]
    },
    {
      "cell_type": "markdown",
      "source": [
        "# Neural Network\n",
        "We'll create a Neural Network with 1 hidden layer (5 neurons):\n",
        "X -> 1HL -> Y"
      ],
      "metadata": {
        "id": "RZypEsOLWohW"
      }
    },
    {
      "cell_type": "markdown",
      "source": [
        "## Random Initialization"
      ],
      "metadata": {
        "id": "DH7wvEFG1gLl"
      }
    },
    {
      "cell_type": "code",
      "source": [
        "def random_init(size_curr_l, size_prev_l):\n",
        "  np.random.seed(4)\n",
        "  w = np.random.randn(size_curr_l , size_prev_l) * np.sqrt(2/size_prev_l)        # He_Initialization\n",
        "  b = np.zeros((1, size_curr_l))\n",
        "  return w, b"
      ],
      "metadata": {
        "id": "mHqKIQArWuqc"
      },
      "execution_count": null,
      "outputs": []
    },
    {
      "cell_type": "code",
      "source": [
        "size_x = x_train.shape[1]\n",
        "size_1 = 10\n",
        "w1, b1 = random_init( size_1, size_x )\n",
        "print(w1.shape)\n",
        "print(b1.shape)"
      ],
      "metadata": {
        "colab": {
          "base_uri": "https://localhost:8080/"
        },
        "id": "jSNVhVDhuFJn",
        "outputId": "9f0e4cd0-73d5-47ed-cb1c-5ff2c8947e1c"
      },
      "execution_count": null,
      "outputs": [
        {
          "output_type": "stream",
          "name": "stdout",
          "text": [
            "(10, 4)\n",
            "(1, 10)\n"
          ]
        }
      ]
    },
    {
      "cell_type": "code",
      "source": [
        "size_2 = 3\n",
        "w2, b2 = random_init( size_2, size_1 )\n",
        "print(w2.shape)\n",
        "print(b2.shape)"
      ],
      "metadata": {
        "colab": {
          "base_uri": "https://localhost:8080/"
        },
        "id": "82gOpHqpoXRH",
        "outputId": "6dde7f2b-4004-4548-8f9b-44cc821a4eae"
      },
      "execution_count": null,
      "outputs": [
        {
          "output_type": "stream",
          "name": "stdout",
          "text": [
            "(3, 10)\n",
            "(1, 3)\n"
          ]
        }
      ]
    },
    {
      "cell_type": "markdown",
      "source": [
        "## Activation Functions"
      ],
      "metadata": {
        "id": "z9YrQ0ja6OPg"
      }
    },
    {
      "cell_type": "code",
      "source": [
        "def sigmoid(z):\n",
        "  return 1/(1+np.exp(-z))"
      ],
      "metadata": {
        "id": "GtqYastv5IPG"
      },
      "execution_count": null,
      "outputs": []
    },
    {
      "cell_type": "code",
      "source": [
        "def activation(input, w, b):\n",
        "  a = sigmoid( np.dot(input, w.T) + b )\n",
        "  return a"
      ],
      "metadata": {
        "id": "oEkOWQZo6zcZ"
      },
      "execution_count": null,
      "outputs": []
    },
    {
      "cell_type": "markdown",
      "source": [
        "## 1-hot encoding of output"
      ],
      "metadata": {
        "id": "sgK_Wj23c5Gr"
      }
    },
    {
      "cell_type": "code",
      "source": [
        "def y_actual(y):\n",
        "  m = len(y)\n",
        "  y_actual = np.zeros((m, 3))\n",
        "  for i in range(m):\n",
        "    y_actual[i][y[i]] = 1\n",
        "  return y_actual"
      ],
      "metadata": {
        "id": "vCgXdyruxP09"
      },
      "execution_count": null,
      "outputs": []
    },
    {
      "cell_type": "code",
      "source": [
        "y_train"
      ],
      "metadata": {
        "colab": {
          "base_uri": "https://localhost:8080/"
        },
        "id": "4M2agmvCcd0T",
        "outputId": "d297fb11-29de-442c-efd3-c7eedfb6b1a4"
      },
      "execution_count": null,
      "outputs": [
        {
          "output_type": "execute_result",
          "data": {
            "text/plain": [
              "array([1, 2, 2, 1, 2, 1, 2, 1, 0, 2, 1, 0, 0, 0, 1, 2, 0, 0, 0, 1, 0, 1,\n",
              "       2, 0, 1, 2, 0, 2, 2, 1, 1, 2, 1, 0, 1, 2, 0, 0, 1, 1, 0, 2, 0, 0,\n",
              "       1, 1, 2, 1, 2, 2, 1, 0, 0, 2, 2, 0, 0, 0, 1, 2, 0, 2, 2, 0, 1, 1,\n",
              "       2, 1, 2, 0, 2, 1, 2, 1, 1, 1, 0, 1, 1, 0, 1, 2, 2, 0, 1, 2, 2, 0,\n",
              "       2, 0, 1, 2, 2, 1, 2, 1, 1, 2, 2, 0, 1, 2, 0, 1, 2])"
            ]
          },
          "metadata": {},
          "execution_count": 185
        }
      ]
    },
    {
      "cell_type": "code",
      "source": [
        "y_train_actual = y_actual(y_train)\n",
        "y_train_actual"
      ],
      "metadata": {
        "id": "xsoedksT0Qf7",
        "colab": {
          "base_uri": "https://localhost:8080/"
        },
        "outputId": "8fc84cd1-4d83-4f19-e6f5-8e4f552ef98d"
      },
      "execution_count": null,
      "outputs": [
        {
          "output_type": "execute_result",
          "data": {
            "text/plain": [
              "array([[0., 1., 0.],\n",
              "       [0., 0., 1.],\n",
              "       [0., 0., 1.],\n",
              "       [0., 1., 0.],\n",
              "       [0., 0., 1.],\n",
              "       [0., 1., 0.],\n",
              "       [0., 0., 1.],\n",
              "       [0., 1., 0.],\n",
              "       [1., 0., 0.],\n",
              "       [0., 0., 1.],\n",
              "       [0., 1., 0.],\n",
              "       [1., 0., 0.],\n",
              "       [1., 0., 0.],\n",
              "       [1., 0., 0.],\n",
              "       [0., 1., 0.],\n",
              "       [0., 0., 1.],\n",
              "       [1., 0., 0.],\n",
              "       [1., 0., 0.],\n",
              "       [1., 0., 0.],\n",
              "       [0., 1., 0.],\n",
              "       [1., 0., 0.],\n",
              "       [0., 1., 0.],\n",
              "       [0., 0., 1.],\n",
              "       [1., 0., 0.],\n",
              "       [0., 1., 0.],\n",
              "       [0., 0., 1.],\n",
              "       [1., 0., 0.],\n",
              "       [0., 0., 1.],\n",
              "       [0., 0., 1.],\n",
              "       [0., 1., 0.],\n",
              "       [0., 1., 0.],\n",
              "       [0., 0., 1.],\n",
              "       [0., 1., 0.],\n",
              "       [1., 0., 0.],\n",
              "       [0., 1., 0.],\n",
              "       [0., 0., 1.],\n",
              "       [1., 0., 0.],\n",
              "       [1., 0., 0.],\n",
              "       [0., 1., 0.],\n",
              "       [0., 1., 0.],\n",
              "       [1., 0., 0.],\n",
              "       [0., 0., 1.],\n",
              "       [1., 0., 0.],\n",
              "       [1., 0., 0.],\n",
              "       [0., 1., 0.],\n",
              "       [0., 1., 0.],\n",
              "       [0., 0., 1.],\n",
              "       [0., 1., 0.],\n",
              "       [0., 0., 1.],\n",
              "       [0., 0., 1.],\n",
              "       [0., 1., 0.],\n",
              "       [1., 0., 0.],\n",
              "       [1., 0., 0.],\n",
              "       [0., 0., 1.],\n",
              "       [0., 0., 1.],\n",
              "       [1., 0., 0.],\n",
              "       [1., 0., 0.],\n",
              "       [1., 0., 0.],\n",
              "       [0., 1., 0.],\n",
              "       [0., 0., 1.],\n",
              "       [1., 0., 0.],\n",
              "       [0., 0., 1.],\n",
              "       [0., 0., 1.],\n",
              "       [1., 0., 0.],\n",
              "       [0., 1., 0.],\n",
              "       [0., 1., 0.],\n",
              "       [0., 0., 1.],\n",
              "       [0., 1., 0.],\n",
              "       [0., 0., 1.],\n",
              "       [1., 0., 0.],\n",
              "       [0., 0., 1.],\n",
              "       [0., 1., 0.],\n",
              "       [0., 0., 1.],\n",
              "       [0., 1., 0.],\n",
              "       [0., 1., 0.],\n",
              "       [0., 1., 0.],\n",
              "       [1., 0., 0.],\n",
              "       [0., 1., 0.],\n",
              "       [0., 1., 0.],\n",
              "       [1., 0., 0.],\n",
              "       [0., 1., 0.],\n",
              "       [0., 0., 1.],\n",
              "       [0., 0., 1.],\n",
              "       [1., 0., 0.],\n",
              "       [0., 1., 0.],\n",
              "       [0., 0., 1.],\n",
              "       [0., 0., 1.],\n",
              "       [1., 0., 0.],\n",
              "       [0., 0., 1.],\n",
              "       [1., 0., 0.],\n",
              "       [0., 1., 0.],\n",
              "       [0., 0., 1.],\n",
              "       [0., 0., 1.],\n",
              "       [0., 1., 0.],\n",
              "       [0., 0., 1.],\n",
              "       [0., 1., 0.],\n",
              "       [0., 1., 0.],\n",
              "       [0., 0., 1.],\n",
              "       [0., 0., 1.],\n",
              "       [1., 0., 0.],\n",
              "       [0., 1., 0.],\n",
              "       [0., 0., 1.],\n",
              "       [1., 0., 0.],\n",
              "       [0., 1., 0.],\n",
              "       [0., 0., 1.]])"
            ]
          },
          "metadata": {},
          "execution_count": 186
        }
      ]
    },
    {
      "cell_type": "code",
      "source": [
        "y_test_actual = y_actual(y_test)\n",
        "y_test_actual"
      ],
      "metadata": {
        "colab": {
          "base_uri": "https://localhost:8080/"
        },
        "id": "CN0G2OxWcDKW",
        "outputId": "f268690c-818a-40dd-c768-19136d850912"
      },
      "execution_count": null,
      "outputs": [
        {
          "output_type": "execute_result",
          "data": {
            "text/plain": [
              "array([[0., 1., 0.],\n",
              "       [1., 0., 0.],\n",
              "       [0., 0., 1.],\n",
              "       [0., 1., 0.],\n",
              "       [0., 1., 0.],\n",
              "       [1., 0., 0.],\n",
              "       [0., 1., 0.],\n",
              "       [0., 0., 1.],\n",
              "       [0., 1., 0.],\n",
              "       [0., 1., 0.],\n",
              "       [0., 0., 1.],\n",
              "       [1., 0., 0.],\n",
              "       [1., 0., 0.],\n",
              "       [1., 0., 0.],\n",
              "       [1., 0., 0.],\n",
              "       [0., 1., 0.],\n",
              "       [0., 0., 1.],\n",
              "       [0., 1., 0.],\n",
              "       [0., 1., 0.],\n",
              "       [0., 0., 1.],\n",
              "       [1., 0., 0.],\n",
              "       [0., 0., 1.],\n",
              "       [1., 0., 0.],\n",
              "       [0., 0., 1.],\n",
              "       [0., 0., 1.],\n",
              "       [0., 0., 1.],\n",
              "       [0., 0., 1.],\n",
              "       [0., 0., 1.],\n",
              "       [1., 0., 0.],\n",
              "       [1., 0., 0.],\n",
              "       [1., 0., 0.],\n",
              "       [1., 0., 0.],\n",
              "       [0., 1., 0.],\n",
              "       [1., 0., 0.],\n",
              "       [1., 0., 0.],\n",
              "       [0., 0., 1.],\n",
              "       [0., 1., 0.],\n",
              "       [1., 0., 0.],\n",
              "       [1., 0., 0.],\n",
              "       [1., 0., 0.],\n",
              "       [0., 0., 1.],\n",
              "       [0., 1., 0.],\n",
              "       [0., 1., 0.],\n",
              "       [1., 0., 0.],\n",
              "       [1., 0., 0.]])"
            ]
          },
          "metadata": {},
          "execution_count": 187
        }
      ]
    },
    {
      "cell_type": "markdown",
      "source": [
        "## Compute Cost"
      ],
      "metadata": {
        "id": "YTeP1loTWTXS"
      }
    },
    {
      "cell_type": "code",
      "source": [
        "def compute_cost(Y, A2):\n",
        "  m = len(Y)\n",
        "  logprob1 = np.multiply(np.log(A2),Y)\n",
        "  cost = - np.sum(logprob1)\n",
        "  logprob2 = np.multiply(np.log(1-A2), (1-Y))\n",
        "  cost -= np.sum(logprob2)\n",
        "  cost /= m\n",
        "  cost = float(np.squeeze(cost))\n",
        "  return cost"
      ],
      "metadata": {
        "id": "Nix3VcUmWXWw"
      },
      "execution_count": null,
      "outputs": []
    },
    {
      "cell_type": "markdown",
      "source": [
        "## FWD PROP"
      ],
      "metadata": {
        "id": "RRUgGj88bLc6"
      }
    },
    {
      "cell_type": "code",
      "source": [
        "def fwd_prop(x, w1, b1, w2, b2):\n",
        "  a1 = activation(x, w1, b1)\n",
        "  a2 = activation(a1, w2, b2)\n",
        "  return a1, a2"
      ],
      "metadata": {
        "id": "vJWPYR9IbQGb"
      },
      "execution_count": null,
      "outputs": []
    },
    {
      "cell_type": "markdown",
      "source": [
        "## Back Prop"
      ],
      "metadata": {
        "id": "hx49jSX5fyvm"
      }
    },
    {
      "cell_type": "code",
      "source": [
        "def back_prop(x, y, a1, a2, w1, b1, w2, b2, learning_rate):\n",
        "  m = len(y)\n",
        "\n",
        "  # back propagation steps\n",
        "  dz2 = a2 - y\n",
        "  dw2 = np.dot(dz2.T, a1)/m\n",
        "  db2 = (np.sum(dz2, axis = 0, keepdims = True))/m\n",
        "\n",
        "  dz1 = np.dot(dz2, w2) * (a1*(1-a1))\n",
        "  dw1 = np.dot(dz1.T, x)/m\n",
        "  db1 = (np.sum(dz1, axis = 0, keepdims = True))/m\n",
        "\n",
        "  # update parameters\n",
        "  w2 = w2 - learning_rate*dw2\n",
        "  b2 = b2 - learning_rate*db2\n",
        "\n",
        "  w1 = w1 - learning_rate*dw1\n",
        "  b1 = b1 - learning_rate*db1\n",
        "\n",
        "  return w1, b1, w2, b2"
      ],
      "metadata": {
        "id": "zIAtN9kRf2Es"
      },
      "execution_count": null,
      "outputs": []
    },
    {
      "cell_type": "markdown",
      "source": [
        "## Fitting on Training Data using Gradient Descent:"
      ],
      "metadata": {
        "id": "564dRAuWeX3T"
      }
    },
    {
      "cell_type": "code",
      "source": [
        "alpha = 0.1\n",
        "epochs = 100000\n",
        "errors = []"
      ],
      "metadata": {
        "id": "GNKw7jkaeTYj"
      },
      "execution_count": null,
      "outputs": []
    },
    {
      "cell_type": "code",
      "source": [
        "for epoch in range(epochs):\n",
        "  a1_train, a2_train = fwd_prop(x_train, w1, b1, w2, b2)\n",
        "\n",
        "  error = compute_cost(y_train_actual, a2_train)\n",
        "  errors.append(error)\n",
        "\n",
        "  w1, b1, w2, b2 = back_prop(x_train, y_train_actual, a1_train, a2_train, w1, b1, w2, b2, alpha)"
      ],
      "metadata": {
        "id": "OmCgCwdTe3uq"
      },
      "execution_count": null,
      "outputs": []
    },
    {
      "cell_type": "code",
      "source": [
        "print(w1)\n",
        "print(b1)"
      ],
      "metadata": {
        "colab": {
          "base_uri": "https://localhost:8080/"
        },
        "id": "FoDI1CKemdl6",
        "outputId": "6380f869-d0c6-4101-f64e-abb0771238a7"
      },
      "execution_count": null,
      "outputs": [
        {
          "output_type": "stream",
          "name": "stdout",
          "text": [
            "[[ 0.20533022  1.75439383 -1.64693014 -0.19939457]\n",
            " [-0.04671437  0.5962528  -0.39563159 -0.58678222]\n",
            " [-0.27469246 -2.17393135  1.70776381  0.54387971]\n",
            " [ 0.32357891  1.80198619 -1.70314397 -0.32004864]\n",
            " [-1.55787595 -2.81254691  3.02013746  5.38872117]\n",
            " [-0.40001363 -1.04018561  1.87675169 -0.82963195]\n",
            " [10.01712629  0.63168111 -2.1729079   4.73494347]\n",
            " [ 6.67713451 -2.41293936 -6.56274445 -1.70773758]\n",
            " [ 0.17558491 -2.30214431  1.14033398  1.32084399]\n",
            " [ 7.20800557  1.86580439 -1.48632766  3.33987654]]\n",
            "[[ -2.39607462  -0.35622024   2.79722962  -2.57436157 -15.51964315\n",
            "    2.24848772  -4.29181554   8.13024978   1.68256025  -2.82580383]]\n"
          ]
        }
      ]
    },
    {
      "cell_type": "code",
      "source": [
        "print(w2)\n",
        "print(b2)"
      ],
      "metadata": {
        "colab": {
          "base_uri": "https://localhost:8080/"
        },
        "id": "fnCerWpZmh9c",
        "outputId": "d75368b6-06d7-4af0-eb0e-e17a125ce069"
      },
      "execution_count": null,
      "outputs": [
        {
          "output_type": "stream",
          "name": "stdout",
          "text": [
            "[[  3.31194564   1.71780709  -4.49934849   3.80190983  -1.00521837\n",
            "   -3.06065882  -1.37092886   0.46489514  -2.84086167  -1.3114664 ]\n",
            " [ -6.04241297  -2.23460063   5.18514235  -6.50719185 -15.61940826\n",
            "    3.09195407  -7.38350795   9.93964755   2.75911519  -4.62589965]\n",
            " [ -2.18834383  -3.22490377  -1.78629055  -2.18552786  14.88347562\n",
            "   -2.12077939   7.65372785 -10.42980409  -0.49117898   4.45920703]]\n",
            "[[-0.27187455 -2.80289854 -3.04010684]]\n"
          ]
        }
      ]
    },
    {
      "cell_type": "markdown",
      "source": [
        "## Plot_Error"
      ],
      "metadata": {
        "id": "KTYjiDXBljH9"
      }
    },
    {
      "cell_type": "code",
      "source": [
        "plt.plot(errors)"
      ],
      "metadata": {
        "id": "AM62E6LF7qQg",
        "colab": {
          "base_uri": "https://localhost:8080/",
          "height": 282
        },
        "outputId": "c087dfd5-e887-48da-9e29-a25d4ad7aa93"
      },
      "execution_count": null,
      "outputs": [
        {
          "output_type": "execute_result",
          "data": {
            "text/plain": [
              "[<matplotlib.lines.Line2D at 0x7f2023c44ed0>]"
            ]
          },
          "metadata": {},
          "execution_count": 195
        },
        {
          "output_type": "display_data",
          "data": {
            "text/plain": [
              "<Figure size 432x288 with 1 Axes>"
            ],
            "image/png": "[encoded data removed]"
          },
          "metadata": {
            "needs_background": "light"
          }
        }
      ]
    },
    {
      "cell_type": "markdown",
      "source": [
        "## Testing the network accuracy:"
      ],
      "metadata": {
        "id": "H3TKdanwR8C3"
      }
    },
    {
      "cell_type": "markdown",
      "source": [
        "### train data"
      ],
      "metadata": {
        "id": "yY6sSOc0dubq"
      }
    },
    {
      "cell_type": "code",
      "source": [
        "y_train_pred = np.argmax(a2_train, axis=1)\n",
        "y_train_pred"
      ],
      "metadata": {
        "colab": {
          "base_uri": "https://localhost:8080/"
        },
        "id": "WWxyuxE-d4qV",
        "outputId": "c0e1a63a-0a06-4dd8-ea40-e17505d83689"
      },
      "execution_count": null,
      "outputs": [
        {
          "output_type": "execute_result",
          "data": {
            "text/plain": [
              "array([1, 2, 2, 1, 2, 1, 2, 1, 0, 2, 1, 0, 0, 0, 1, 2, 0, 0, 0, 1, 0, 1,\n",
              "       2, 0, 1, 2, 0, 2, 2, 1, 1, 2, 1, 0, 1, 2, 0, 0, 1, 1, 0, 2, 0, 0,\n",
              "       1, 1, 2, 1, 2, 2, 1, 0, 0, 2, 2, 0, 0, 0, 1, 2, 0, 2, 2, 0, 1, 1,\n",
              "       2, 1, 2, 0, 2, 1, 2, 1, 1, 1, 0, 1, 1, 0, 1, 2, 2, 0, 1, 2, 2, 0,\n",
              "       2, 0, 1, 2, 2, 1, 2, 1, 1, 2, 2, 0, 1, 2, 0, 1, 2])"
            ]
          },
          "metadata": {},
          "execution_count": 196
        }
      ]
    },
    {
      "cell_type": "code",
      "source": [
        "y_train"
      ],
      "metadata": {
        "colab": {
          "base_uri": "https://localhost:8080/"
        },
        "id": "YgP-l5IVeCrb",
        "outputId": "1b21deb9-7c3e-4acc-f573-2b2ebae7551b"
      },
      "execution_count": null,
      "outputs": [
        {
          "output_type": "execute_result",
          "data": {
            "text/plain": [
              "array([1, 2, 2, 1, 2, 1, 2, 1, 0, 2, 1, 0, 0, 0, 1, 2, 0, 0, 0, 1, 0, 1,\n",
              "       2, 0, 1, 2, 0, 2, 2, 1, 1, 2, 1, 0, 1, 2, 0, 0, 1, 1, 0, 2, 0, 0,\n",
              "       1, 1, 2, 1, 2, 2, 1, 0, 0, 2, 2, 0, 0, 0, 1, 2, 0, 2, 2, 0, 1, 1,\n",
              "       2, 1, 2, 0, 2, 1, 2, 1, 1, 1, 0, 1, 1, 0, 1, 2, 2, 0, 1, 2, 2, 0,\n",
              "       2, 0, 1, 2, 2, 1, 2, 1, 1, 2, 2, 0, 1, 2, 0, 1, 2])"
            ]
          },
          "metadata": {},
          "execution_count": 197
        }
      ]
    },
    {
      "cell_type": "code",
      "source": [
        "train_pred = (y_train == y_train_pred)"
      ],
      "metadata": {
        "id": "91csCth0eGd4"
      },
      "execution_count": null,
      "outputs": []
    },
    {
      "cell_type": "code",
      "source": [
        "train_accuracy = np.sum(train_pred)/ len(train_pred)\n",
        "train_accuracy"
      ],
      "metadata": {
        "colab": {
          "base_uri": "https://localhost:8080/"
        },
        "id": "ZKlkVd4ReZXg",
        "outputId": "9d924694-d4ca-4eb2-d5cb-7ae03e23eb40"
      },
      "execution_count": null,
      "outputs": [
        {
          "output_type": "execute_result",
          "data": {
            "text/plain": [
              "1.0"
            ]
          },
          "metadata": {},
          "execution_count": 199
        }
      ]
    },
    {
      "cell_type": "markdown",
      "source": [
        "### test data"
      ],
      "metadata": {
        "id": "vkPgGbVSdrLq"
      }
    },
    {
      "cell_type": "code",
      "source": [
        "print(w1.shape)\n",
        "print(b1.shape)"
      ],
      "metadata": {
        "colab": {
          "base_uri": "https://localhost:8080/"
        },
        "id": "SxwwismFnMrL",
        "outputId": "b1103f77-e1ba-49db-a40c-693b770a2f8b"
      },
      "execution_count": null,
      "outputs": [
        {
          "output_type": "stream",
          "name": "stdout",
          "text": [
            "(10, 4)\n",
            "(1, 10)\n"
          ]
        }
      ]
    },
    {
      "cell_type": "code",
      "source": [
        "a1_test = activation(x_test, w1, b1)\n",
        "a2_test = activation(a1_test, w2, b2)"
      ],
      "metadata": {
        "id": "MjZiWZ0BRqWc"
      },
      "execution_count": null,
      "outputs": []
    },
    {
      "cell_type": "code",
      "source": [
        "y_test_pred = np.argmax(a2_test, axis=1)\n",
        "y_test_pred"
      ],
      "metadata": {
        "colab": {
          "base_uri": "https://localhost:8080/"
        },
        "id": "6CLiKduhShJR",
        "outputId": "b8e1e016-7fea-4591-c54a-72da013a7465"
      },
      "execution_count": null,
      "outputs": [
        {
          "output_type": "execute_result",
          "data": {
            "text/plain": [
              "array([1, 0, 2, 1, 1, 0, 1, 2, 1, 1, 2, 0, 0, 0, 0, 2, 2, 1, 1, 2, 0, 2,\n",
              "       0, 2, 2, 2, 2, 2, 0, 0, 0, 0, 1, 0, 0, 2, 1, 0, 0, 0, 2, 2, 1, 0,\n",
              "       0])"
            ]
          },
          "metadata": {},
          "execution_count": 202
        }
      ]
    },
    {
      "cell_type": "code",
      "source": [
        "y_test"
      ],
      "metadata": {
        "colab": {
          "base_uri": "https://localhost:8080/"
        },
        "id": "3QwB6sCRT9Zh",
        "outputId": "f0198c15-4544-4fc9-9ea3-fbec3d324c9a"
      },
      "execution_count": null,
      "outputs": [
        {
          "output_type": "execute_result",
          "data": {
            "text/plain": [
              "array([1, 0, 2, 1, 1, 0, 1, 2, 1, 1, 2, 0, 0, 0, 0, 1, 2, 1, 1, 2, 0, 2,\n",
              "       0, 2, 2, 2, 2, 2, 0, 0, 0, 0, 1, 0, 0, 2, 1, 0, 0, 0, 2, 1, 1, 0,\n",
              "       0])"
            ]
          },
          "metadata": {},
          "execution_count": 203
        }
      ]
    },
    {
      "cell_type": "code",
      "source": [
        "test_pred = (y_test == y_test_pred)"
      ],
      "metadata": {
        "id": "kSZE8X-pTWwM"
      },
      "execution_count": null,
      "outputs": []
    },
    {
      "cell_type": "code",
      "source": [
        "test_accuracy = np.sum(test_pred)/ len(test_pred)\n",
        "test_accuracy"
      ],
      "metadata": {
        "colab": {
          "base_uri": "https://localhost:8080/"
        },
        "id": "eByVNh7dTsN0",
        "outputId": "ca92fe80-6f10-404a-d0da-275a6b00e86b"
      },
      "execution_count": null,
      "outputs": [
        {
          "output_type": "execute_result",
          "data": {
            "text/plain": [
              "0.9555555555555556"
            ]
          },
          "metadata": {},
          "execution_count": 205
        }
      ]
    }
  ]
}